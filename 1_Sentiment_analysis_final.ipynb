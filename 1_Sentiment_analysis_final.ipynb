{
  "nbformat": 4,
  "nbformat_minor": 0,
  "metadata": {
    "colab": {
      "provenance": []
    },
    "kernelspec": {
      "name": "python3",
      "display_name": "Python 3"
    },
    "language_info": {
      "name": "python"
    }
  },
  "cells": [
    {
      "cell_type": "markdown",
      "source": [
        "Get data using this code"
      ],
      "metadata": {
        "id": "8awo4rptyi4i"
      }
    },
    {
      "cell_type": "code",
      "execution_count": null,
      "metadata": {
        "colab": {
          "base_uri": "https://localhost:8080/"
        },
        "id": "WKJUwAaS7Bev",
        "outputId": "caaaecb8-4964-4c5e-b4a1-a3c04ea49113"
      },
      "outputs": [
        {
          "output_type": "stream",
          "name": "stderr",
          "text": [
            "[nltk_data] Downloading package vader_lexicon to /root/nltk_data...\n",
            "[nltk_data]   Package vader_lexicon is already up-to-date!\n"
          ]
        }
      ],
      "source": [
        "import requests\n",
        "from bs4 import BeautifulSoup\n",
        "import nltk\n",
        "from textblob import TextBlob\n",
        "import pandas as pd\n",
        "from datetime import datetime\n",
        "\n",
        "nltk.download('vader_lexicon')\n",
        "\n",
        "from nltk.sentiment import SentimentIntensityAnalyzer\n",
        "\n",
        "reviews = []\n",
        "ratings = []\n",
        "sentiment_score = []\n",
        "name = []\n",
        "review_date =[]\n",
        "\n",
        "sia = SentimentIntensityAnalyzer()\n",
        "from_page = 1\n",
        "to_page = 150\n",
        "for i in range(from_page, to_page + 1):\n",
        "    response = requests.get(f\"https://www.trustpilot.com/review/www.google.com?page={i}\")\n",
        "    web_page = response.text\n",
        "    soup = BeautifulSoup(web_page, \"html.parser\")\n",
        "    for review in soup.find_all(class_='paper_paper__1PY90 paper_outline__lwsUX card_card__lQWDv styles_reviewCard__hcAvl'):\n",
        "\n",
        "        review_text = review.find('p', class_ = \"typography_body-l__KUYFJ typography_appearance-default__AAY17 typography_color-black__5LYEn\")\n",
        "        date_field = review.find('p', class_ = \"typography_body-m__xgxZ_ typography_appearance-default__AAY17 typography_color-black__5LYEn\")\n",
        "        rating = review.find('div', class_ =\"styles_reviewHeader__iU9Px\")\n",
        "        if review_text != None:\n",
        "          text = review_text.get_text()\n",
        "          date_string = date_field.get_text() #YYYY-MM-DD\n",
        "          date_object = datetime.strptime(date_string.split(': ')[1], '%B %d, %Y').date()\n",
        "          review_date.append(date_object)\n",
        "          reviews.append(text)\n",
        "          ratings.append(rating.get(\"data-service-review-rating\"))\n",
        "          sentiment_score.append(sia.polarity_scores(text)['compound'])\n",
        "          name.append(\"Google\")"
      ]
    },
    {
      "cell_type": "markdown",
      "source": [
        "Add everything to a dataframe"
      ],
      "metadata": {
        "id": "TDgteYsdyoVA"
      }
    },
    {
      "cell_type": "code",
      "source": [
        "data = {\"Review\": reviews, \"Ratings\": ratings, \"Sentiment Score\": sentiment_score, \"Name\": name, \"Date\": review_date}\n",
        "df = pd.DataFrame(data)"
      ],
      "metadata": {
        "id": "Dli7RUx1xt5T"
      },
      "execution_count": null,
      "outputs": []
    },
    {
      "cell_type": "markdown",
      "source": [
        "Writing a function to change the month to a season"
      ],
      "metadata": {
        "id": "9KoOVh8izY72"
      }
    },
    {
      "cell_type": "code",
      "source": [
        "#season month function\n",
        "def find_season(month):\n",
        "  season_month = {\n",
        "            12:'Winter', 1:'Winter', 2:'Winter',\n",
        "            3:'Spring', 4:'Spring', 5:'Spring',\n",
        "            6:'Summer', 7:'Summer', 8:'Summer',\n",
        "            9:'Autumn', 10:'Autumn', 11:'Autumn'}\n",
        "  return season_month.get(month)"
      ],
      "metadata": {
        "id": "qcfy617mysIG"
      },
      "execution_count": null,
      "outputs": []
    },
    {
      "cell_type": "markdown",
      "source": [
        "Add the season to the review"
      ],
      "metadata": {
        "id": "foGHwrES2tDp"
      }
    },
    {
      "cell_type": "code",
      "source": [
        "season_list = []\n",
        "for each_month in df['Date']:\n",
        "    season = find_season(each_month.month)\n",
        "    season_list.append(season)\n",
        "    \n",
        "df['Season'] = season_list"
      ],
      "metadata": {
        "id": "wZw-BBUDzdjR"
      },
      "execution_count": null,
      "outputs": []
    },
    {
      "cell_type": "code",
      "source": [
        "df.to_excel(\"Google.xlsx\")"
      ],
      "metadata": {
        "id": "MPdtMThrXSIX"
      },
      "execution_count": null,
      "outputs": []
    },
    {
      "cell_type": "markdown",
      "source": [
        "Start here if data is already available"
      ],
      "metadata": {
        "id": "6fX0mYFfgfQJ"
      }
    },
    {
      "cell_type": "code",
      "source": [
        "'''\n",
        "import requests\n",
        "from bs4 import BeautifulSoup\n",
        "import nltk\n",
        "from textblob import TextBlob\n",
        "import pandas as pd\n",
        "from datetime import datetime\n",
        "from nltk.sentiment import SentimentIntensityAnalyzer\n",
        "'''"
      ],
      "metadata": {
        "colab": {
          "base_uri": "https://localhost:8080/",
          "height": 53
        },
        "id": "GWGU5d8og9nh",
        "outputId": "eaef60d1-2ce7-4abf-fe30-a72f7e5a0326"
      },
      "execution_count": null,
      "outputs": [
        {
          "output_type": "execute_result",
          "data": {
            "text/plain": [
              "'\\nimport requests\\nfrom bs4 import BeautifulSoup\\nimport nltk\\nfrom textblob import TextBlob\\nimport pandas as pd\\nfrom datetime import datetime\\nfrom nltk.sentiment import SentimentIntensityAnalyzer\\n'"
            ],
            "application/vnd.google.colaboratory.intrinsic+json": {
              "type": "string"
            }
          },
          "metadata": {},
          "execution_count": 28
        }
      ]
    },
    {
      "cell_type": "code",
      "source": [
        "#df = pd.read_excel('Netatmo.xlsx')"
      ],
      "metadata": {
        "id": "CqMuTQ7Rgenl"
      },
      "execution_count": null,
      "outputs": []
    },
    {
      "cell_type": "markdown",
      "source": [
        "Add year to the review"
      ],
      "metadata": {
        "id": "43xm3RDE2xQI"
      }
    },
    {
      "cell_type": "code",
      "source": [
        "year_list = []\n",
        "#df.drop(\"Year\", axis =1)\n",
        "for each_year in df['Date']:\n",
        "    year_list.append(each_year.year)\n",
        "    \n",
        "df['Year'] = year_list"
      ],
      "metadata": {
        "id": "APh_oRIF2zCr"
      },
      "execution_count": null,
      "outputs": []
    },
    {
      "cell_type": "code",
      "source": [
        "import re\n",
        "from nltk.corpus import stopwords\n",
        "from wordcloud import WordCloud, STOPWORDS\n",
        "import spacy\n",
        "nlp = spacy.load('en_core_web_sm', disable=['parser', 'ner'])"
      ],
      "metadata": {
        "id": "EXdyiGTw4Zbr"
      },
      "execution_count": null,
      "outputs": []
    },
    {
      "cell_type": "code",
      "source": [
        "df['New_reviews'] = df['Review'].apply(lambda x: \" \".join(x.lower() for x in x.split()))\n",
        "df['New_reviews'].head()"
      ],
      "metadata": {
        "colab": {
          "base_uri": "https://localhost:8080/"
        },
        "id": "sPLMV1L94hEV",
        "outputId": "e3ff384e-7e13-4078-fb57-4acfaa51bbbf"
      },
      "execution_count": null,
      "outputs": [
        {
          "output_type": "execute_result",
          "data": {
            "text/plain": [
              "0    vast choice of carpets samples and other floor...\n",
              "1    you only lose money with google ads. all their...\n",
              "2    can not change my password (which is on a list...\n",
              "3    i really look up to the fact that google doesn...\n",
              "4    just had a very large parcel delivery. it was ...\n",
              "Name: New_reviews, dtype: object"
            ]
          },
          "metadata": {},
          "execution_count": 32
        }
      ]
    },
    {
      "cell_type": "code",
      "source": [
        "df['New_reviews'] = df['New_reviews'].str.replace('[^\\w\\s]','')\n",
        "df['New_reviews'].head()"
      ],
      "metadata": {
        "colab": {
          "base_uri": "https://localhost:8080/"
        },
        "id": "ZkJbYy3j5D6-",
        "outputId": "1adedba6-c820-4466-9a41-3c9a49c553d9"
      },
      "execution_count": null,
      "outputs": [
        {
          "output_type": "stream",
          "name": "stderr",
          "text": [
            "<ipython-input-33-cb142dcdf792>:1: FutureWarning: The default value of regex will change from True to False in a future version.\n",
            "  df['New_reviews'] = df['New_reviews'].str.replace('[^\\w\\s]','')\n"
          ]
        },
        {
          "output_type": "execute_result",
          "data": {
            "text/plain": [
              "0    vast choice of carpets samples and other floor...\n",
              "1    you only lose money with google ads all their ...\n",
              "2    can not change my password which is on a list ...\n",
              "3    i really look up to the fact that google doesn...\n",
              "4    just had a very large parcel delivery it was b...\n",
              "Name: New_reviews, dtype: object"
            ]
          },
          "metadata": {},
          "execution_count": 33
        }
      ]
    },
    {
      "cell_type": "code",
      "source": [
        "# REFERENCE : https://gist.github.com/slowkow/7a7f61f495e3dbb7e3d767f97bd7304b\n",
        "def remove_emoji(text):\n",
        "    emoji_pattern = re.compile(\"[\"\n",
        "                           u\"\\U0001F600-\\U0001F64F\"  # emoticons\n",
        "                           u\"\\U0001F300-\\U0001F5FF\"  # symbols & pictographs\n",
        "                           u\"\\U0001F680-\\U0001F6FF\"  # transport & map symbols\n",
        "                           u\"\\U0001F1E0-\\U0001F1FF\"  # flags \n",
        "                           u\"\\U00002702-\\U000027B0\"\n",
        "                           u\"\\U000024C2-\\U0001F251\"\n",
        "                           \"]+\", flags=re.UNICODE)\n",
        "    return emoji_pattern.sub(r'', text)\n",
        "df['New_reviews'] = df['New_reviews'].apply(lambda x: remove_emoji(x))"
      ],
      "metadata": {
        "id": "VUwzm2gV5N8c"
      },
      "execution_count": null,
      "outputs": []
    },
    {
      "cell_type": "code",
      "source": [
        "nltk.download('stopwords')"
      ],
      "metadata": {
        "colab": {
          "base_uri": "https://localhost:8080/"
        },
        "id": "b5AEzrNG5bqj",
        "outputId": "d8379cc8-6655-407b-ffe6-7330f7c60687"
      },
      "execution_count": null,
      "outputs": [
        {
          "output_type": "stream",
          "name": "stderr",
          "text": [
            "[nltk_data] Downloading package stopwords to /root/nltk_data...\n",
            "[nltk_data]   Package stopwords is already up-to-date!\n"
          ]
        },
        {
          "output_type": "execute_result",
          "data": {
            "text/plain": [
              "True"
            ]
          },
          "metadata": {},
          "execution_count": 35
        }
      ]
    },
    {
      "cell_type": "code",
      "source": [
        "stop = stopwords.words('english')\n",
        "df['New_reviews'] = df['New_reviews'].apply(lambda x: \" \".join(x for x in x.split() if x not in stop))"
      ],
      "metadata": {
        "id": "MU_PLrRt5UXY"
      },
      "execution_count": null,
      "outputs": []
    },
    {
      "cell_type": "code",
      "source": [
        "def space(comment):\n",
        "    doc = nlp(comment)\n",
        "    return \" \".join([token.lemma_ for token in doc])\n",
        "df['New_reviews']= df['New_reviews'].apply(space)\n",
        "df.head(20)"
      ],
      "metadata": {
        "colab": {
          "base_uri": "https://localhost:8080/",
          "height": 1000
        },
        "id": "XeF7zhi95l0J",
        "outputId": "705f187b-4432-4e6c-9cfd-e82d4158c4e2"
      },
      "execution_count": null,
      "outputs": [
        {
          "output_type": "execute_result",
          "data": {
            "text/plain": [
              "                                               Review Ratings  \\\n",
              "0   Vast choice of carpets samples and other floor...       5   \n",
              "1   You only lose money with google ads. All their...       1   \n",
              "2   can not change my password (which is on a list...       1   \n",
              "3   I really look up to the fact that google doesn...       5   \n",
              "4   Just had a very large parcel delivery.  It was...       5   \n",
              "5   Neal services. Dug up my hall floor . Laid a c...       1   \n",
              "6   My Zodiac had a fault which was fixed for free...       5   \n",
              "7   /Had need of a Taxi at 4pm from B and Q Great ...       5   \n",
              "8   Wow, wow, wow. I've just had a full body massa...       5   \n",
              "9   Today we had five windows fitted by coastal wi...       5   \n",
              "10  Google is controlled by persons with extremely...       1   \n",
              "11  I've only been with e-cigclouds a short while ...       5   \n",
              "12  The old rectory in stockport was amazing the f...       5   \n",
              "13  Open when we came which was great because we j...       4   \n",
              "14  Natuzzi Italia at Brent Cross ￼ I bought the c...       1   \n",
              "15  Just had a great trim and beard shape up at Em...       5   \n",
              "16  Why does this site keep cramming unneeded \"fea...       1   \n",
              "17  A very efficient procedure with costing then a...       5   \n",
              "18  Myself and my husband were reviewing a propert...       5   \n",
              "19  CBD.Oils and gummies are great productsHelp wi...       5   \n",
              "\n",
              "    Sentiment Score    Name        Date  Season  Year  \\\n",
              "0            0.9627  Google  2023-04-04  Spring  2023   \n",
              "1           -0.6721  Google  2023-04-04  Spring  2023   \n",
              "2           -0.5934  Google  2023-04-02  Spring  2023   \n",
              "3            0.5994  Google  2023-03-29  Spring  2023   \n",
              "4            0.8051  Google  2023-04-04  Spring  2023   \n",
              "5           -0.4517  Google  2023-03-07  Spring  2023   \n",
              "6            0.7430  Google  2023-03-30  Spring  2023   \n",
              "7            0.7332  Google  2023-03-28  Spring  2023   \n",
              "8            0.9887  Google  2023-03-31  Spring  2023   \n",
              "9            0.9093  Google  2023-03-29  Spring  2023   \n",
              "10           0.3513  Google  2023-03-30  Spring  2023   \n",
              "11           0.9769  Google  2023-03-29  Spring  2023   \n",
              "12           0.9593  Google  2023-03-29  Spring  2023   \n",
              "13           0.9022  Google  2023-04-01  Spring  2023   \n",
              "14          -0.8591  Google  2023-03-01  Spring  2023   \n",
              "15           0.9339  Google  2023-03-30  Spring  2023   \n",
              "16           0.2363  Google  2022-04-02  Spring  2022   \n",
              "17           0.9501  Google  2023-02-08  Winter  2023   \n",
              "18           0.9817  Google  2023-03-18  Spring  2023   \n",
              "19           0.7854  Google  2023-03-31  Spring  2023   \n",
              "\n",
              "                                          New_reviews  \n",
              "0   vast choice carpet sample floor lot remnant va...  \n",
              "1   lose money google ad assistant instead help pu...  \n",
              "2   change password list due databreach thank goog...  \n",
              "3   really look fact google do not pay taxis love ...  \n",
              "4   large parcel delivery designate time driver he...  \n",
              "5   neal service dig hall floor lay concrete floor...  \n",
              "6   zodiac fault fix free warranty thank prompt ef...  \n",
              "7   need taxi 4 pm b q great yarmouth gorleston se...  \n",
              "8   wow wow wow I ve full body massage tracy chamb...  \n",
              "9   today five window fit coastal window newton ab...  \n",
              "10  google control person extremely low intelligen...  \n",
              "11  I ve ecigcloud short fantastic vape experience...  \n",
              "12  old rectory stockport amazing food good james ...  \n",
              "13  open come great hit look somewhere wuick bite ...  \n",
              "14  natuzzi italia brent cross buy corner sofa ord...  \n",
              "15  great trim beard shape eminent barbershop alex...  \n",
              "16  site keep cram unneeded feature throat good mo...  \n",
              "17  efficient procedure cost accurate measurement ...  \n",
              "18  husband review property near inveraray agent l...  \n",
              "19  cbdoil gummie great productshelp sleep pain st...  "
            ],
            "text/html": [
              "\n",
              "  <div id=\"df-2b703959-5a2b-4d76-98b7-83a49ea067c4\">\n",
              "    <div class=\"colab-df-container\">\n",
              "      <div>\n",
              "<style scoped>\n",
              "    .dataframe tbody tr th:only-of-type {\n",
              "        vertical-align: middle;\n",
              "    }\n",
              "\n",
              "    .dataframe tbody tr th {\n",
              "        vertical-align: top;\n",
              "    }\n",
              "\n",
              "    .dataframe thead th {\n",
              "        text-align: right;\n",
              "    }\n",
              "</style>\n",
              "<table border=\"1\" class=\"dataframe\">\n",
              "  <thead>\n",
              "    <tr style=\"text-align: right;\">\n",
              "      <th></th>\n",
              "      <th>Review</th>\n",
              "      <th>Ratings</th>\n",
              "      <th>Sentiment Score</th>\n",
              "      <th>Name</th>\n",
              "      <th>Date</th>\n",
              "      <th>Season</th>\n",
              "      <th>Year</th>\n",
              "      <th>New_reviews</th>\n",
              "    </tr>\n",
              "  </thead>\n",
              "  <tbody>\n",
              "    <tr>\n",
              "      <th>0</th>\n",
              "      <td>Vast choice of carpets samples and other floor...</td>\n",
              "      <td>5</td>\n",
              "      <td>0.9627</td>\n",
              "      <td>Google</td>\n",
              "      <td>2023-04-04</td>\n",
              "      <td>Spring</td>\n",
              "      <td>2023</td>\n",
              "      <td>vast choice carpet sample floor lot remnant va...</td>\n",
              "    </tr>\n",
              "    <tr>\n",
              "      <th>1</th>\n",
              "      <td>You only lose money with google ads. All their...</td>\n",
              "      <td>1</td>\n",
              "      <td>-0.6721</td>\n",
              "      <td>Google</td>\n",
              "      <td>2023-04-04</td>\n",
              "      <td>Spring</td>\n",
              "      <td>2023</td>\n",
              "      <td>lose money google ad assistant instead help pu...</td>\n",
              "    </tr>\n",
              "    <tr>\n",
              "      <th>2</th>\n",
              "      <td>can not change my password (which is on a list...</td>\n",
              "      <td>1</td>\n",
              "      <td>-0.5934</td>\n",
              "      <td>Google</td>\n",
              "      <td>2023-04-02</td>\n",
              "      <td>Spring</td>\n",
              "      <td>2023</td>\n",
              "      <td>change password list due databreach thank goog...</td>\n",
              "    </tr>\n",
              "    <tr>\n",
              "      <th>3</th>\n",
              "      <td>I really look up to the fact that google doesn...</td>\n",
              "      <td>5</td>\n",
              "      <td>0.5994</td>\n",
              "      <td>Google</td>\n",
              "      <td>2023-03-29</td>\n",
              "      <td>Spring</td>\n",
              "      <td>2023</td>\n",
              "      <td>really look fact google do not pay taxis love ...</td>\n",
              "    </tr>\n",
              "    <tr>\n",
              "      <th>4</th>\n",
              "      <td>Just had a very large parcel delivery.  It was...</td>\n",
              "      <td>5</td>\n",
              "      <td>0.8051</td>\n",
              "      <td>Google</td>\n",
              "      <td>2023-04-04</td>\n",
              "      <td>Spring</td>\n",
              "      <td>2023</td>\n",
              "      <td>large parcel delivery designate time driver he...</td>\n",
              "    </tr>\n",
              "    <tr>\n",
              "      <th>5</th>\n",
              "      <td>Neal services. Dug up my hall floor . Laid a c...</td>\n",
              "      <td>1</td>\n",
              "      <td>-0.4517</td>\n",
              "      <td>Google</td>\n",
              "      <td>2023-03-07</td>\n",
              "      <td>Spring</td>\n",
              "      <td>2023</td>\n",
              "      <td>neal service dig hall floor lay concrete floor...</td>\n",
              "    </tr>\n",
              "    <tr>\n",
              "      <th>6</th>\n",
              "      <td>My Zodiac had a fault which was fixed for free...</td>\n",
              "      <td>5</td>\n",
              "      <td>0.7430</td>\n",
              "      <td>Google</td>\n",
              "      <td>2023-03-30</td>\n",
              "      <td>Spring</td>\n",
              "      <td>2023</td>\n",
              "      <td>zodiac fault fix free warranty thank prompt ef...</td>\n",
              "    </tr>\n",
              "    <tr>\n",
              "      <th>7</th>\n",
              "      <td>/Had need of a Taxi at 4pm from B and Q Great ...</td>\n",
              "      <td>5</td>\n",
              "      <td>0.7332</td>\n",
              "      <td>Google</td>\n",
              "      <td>2023-03-28</td>\n",
              "      <td>Spring</td>\n",
              "      <td>2023</td>\n",
              "      <td>need taxi 4 pm b q great yarmouth gorleston se...</td>\n",
              "    </tr>\n",
              "    <tr>\n",
              "      <th>8</th>\n",
              "      <td>Wow, wow, wow. I've just had a full body massa...</td>\n",
              "      <td>5</td>\n",
              "      <td>0.9887</td>\n",
              "      <td>Google</td>\n",
              "      <td>2023-03-31</td>\n",
              "      <td>Spring</td>\n",
              "      <td>2023</td>\n",
              "      <td>wow wow wow I ve full body massage tracy chamb...</td>\n",
              "    </tr>\n",
              "    <tr>\n",
              "      <th>9</th>\n",
              "      <td>Today we had five windows fitted by coastal wi...</td>\n",
              "      <td>5</td>\n",
              "      <td>0.9093</td>\n",
              "      <td>Google</td>\n",
              "      <td>2023-03-29</td>\n",
              "      <td>Spring</td>\n",
              "      <td>2023</td>\n",
              "      <td>today five window fit coastal window newton ab...</td>\n",
              "    </tr>\n",
              "    <tr>\n",
              "      <th>10</th>\n",
              "      <td>Google is controlled by persons with extremely...</td>\n",
              "      <td>1</td>\n",
              "      <td>0.3513</td>\n",
              "      <td>Google</td>\n",
              "      <td>2023-03-30</td>\n",
              "      <td>Spring</td>\n",
              "      <td>2023</td>\n",
              "      <td>google control person extremely low intelligen...</td>\n",
              "    </tr>\n",
              "    <tr>\n",
              "      <th>11</th>\n",
              "      <td>I've only been with e-cigclouds a short while ...</td>\n",
              "      <td>5</td>\n",
              "      <td>0.9769</td>\n",
              "      <td>Google</td>\n",
              "      <td>2023-03-29</td>\n",
              "      <td>Spring</td>\n",
              "      <td>2023</td>\n",
              "      <td>I ve ecigcloud short fantastic vape experience...</td>\n",
              "    </tr>\n",
              "    <tr>\n",
              "      <th>12</th>\n",
              "      <td>The old rectory in stockport was amazing the f...</td>\n",
              "      <td>5</td>\n",
              "      <td>0.9593</td>\n",
              "      <td>Google</td>\n",
              "      <td>2023-03-29</td>\n",
              "      <td>Spring</td>\n",
              "      <td>2023</td>\n",
              "      <td>old rectory stockport amazing food good james ...</td>\n",
              "    </tr>\n",
              "    <tr>\n",
              "      <th>13</th>\n",
              "      <td>Open when we came which was great because we j...</td>\n",
              "      <td>4</td>\n",
              "      <td>0.9022</td>\n",
              "      <td>Google</td>\n",
              "      <td>2023-04-01</td>\n",
              "      <td>Spring</td>\n",
              "      <td>2023</td>\n",
              "      <td>open come great hit look somewhere wuick bite ...</td>\n",
              "    </tr>\n",
              "    <tr>\n",
              "      <th>14</th>\n",
              "      <td>Natuzzi Italia at Brent Cross ￼ I bought the c...</td>\n",
              "      <td>1</td>\n",
              "      <td>-0.8591</td>\n",
              "      <td>Google</td>\n",
              "      <td>2023-03-01</td>\n",
              "      <td>Spring</td>\n",
              "      <td>2023</td>\n",
              "      <td>natuzzi italia brent cross buy corner sofa ord...</td>\n",
              "    </tr>\n",
              "    <tr>\n",
              "      <th>15</th>\n",
              "      <td>Just had a great trim and beard shape up at Em...</td>\n",
              "      <td>5</td>\n",
              "      <td>0.9339</td>\n",
              "      <td>Google</td>\n",
              "      <td>2023-03-30</td>\n",
              "      <td>Spring</td>\n",
              "      <td>2023</td>\n",
              "      <td>great trim beard shape eminent barbershop alex...</td>\n",
              "    </tr>\n",
              "    <tr>\n",
              "      <th>16</th>\n",
              "      <td>Why does this site keep cramming unneeded \"fea...</td>\n",
              "      <td>1</td>\n",
              "      <td>0.2363</td>\n",
              "      <td>Google</td>\n",
              "      <td>2022-04-02</td>\n",
              "      <td>Spring</td>\n",
              "      <td>2022</td>\n",
              "      <td>site keep cram unneeded feature throat good mo...</td>\n",
              "    </tr>\n",
              "    <tr>\n",
              "      <th>17</th>\n",
              "      <td>A very efficient procedure with costing then a...</td>\n",
              "      <td>5</td>\n",
              "      <td>0.9501</td>\n",
              "      <td>Google</td>\n",
              "      <td>2023-02-08</td>\n",
              "      <td>Winter</td>\n",
              "      <td>2023</td>\n",
              "      <td>efficient procedure cost accurate measurement ...</td>\n",
              "    </tr>\n",
              "    <tr>\n",
              "      <th>18</th>\n",
              "      <td>Myself and my husband were reviewing a propert...</td>\n",
              "      <td>5</td>\n",
              "      <td>0.9817</td>\n",
              "      <td>Google</td>\n",
              "      <td>2023-03-18</td>\n",
              "      <td>Spring</td>\n",
              "      <td>2023</td>\n",
              "      <td>husband review property near inveraray agent l...</td>\n",
              "    </tr>\n",
              "    <tr>\n",
              "      <th>19</th>\n",
              "      <td>CBD.Oils and gummies are great productsHelp wi...</td>\n",
              "      <td>5</td>\n",
              "      <td>0.7854</td>\n",
              "      <td>Google</td>\n",
              "      <td>2023-03-31</td>\n",
              "      <td>Spring</td>\n",
              "      <td>2023</td>\n",
              "      <td>cbdoil gummie great productshelp sleep pain st...</td>\n",
              "    </tr>\n",
              "  </tbody>\n",
              "</table>\n",
              "</div>\n",
              "      <button class=\"colab-df-convert\" onclick=\"convertToInteractive('df-2b703959-5a2b-4d76-98b7-83a49ea067c4')\"\n",
              "              title=\"Convert this dataframe to an interactive table.\"\n",
              "              style=\"display:none;\">\n",
              "        \n",
              "  <svg xmlns=\"http://www.w3.org/2000/svg\" height=\"24px\"viewBox=\"0 0 24 24\"\n",
              "       width=\"24px\">\n",
              "    <path d=\"M0 0h24v24H0V0z\" fill=\"none\"/>\n",
              "    <path d=\"M18.56 5.44l.94 2.06.94-2.06 2.06-.94-2.06-.94-.94-2.06-.94 2.06-2.06.94zm-11 1L8.5 8.5l.94-2.06 2.06-.94-2.06-.94L8.5 2.5l-.94 2.06-2.06.94zm10 10l.94 2.06.94-2.06 2.06-.94-2.06-.94-.94-2.06-.94 2.06-2.06.94z\"/><path d=\"M17.41 7.96l-1.37-1.37c-.4-.4-.92-.59-1.43-.59-.52 0-1.04.2-1.43.59L10.3 9.45l-7.72 7.72c-.78.78-.78 2.05 0 2.83L4 21.41c.39.39.9.59 1.41.59.51 0 1.02-.2 1.41-.59l7.78-7.78 2.81-2.81c.8-.78.8-2.07 0-2.86zM5.41 20L4 18.59l7.72-7.72 1.47 1.35L5.41 20z\"/>\n",
              "  </svg>\n",
              "      </button>\n",
              "      \n",
              "  <style>\n",
              "    .colab-df-container {\n",
              "      display:flex;\n",
              "      flex-wrap:wrap;\n",
              "      gap: 12px;\n",
              "    }\n",
              "\n",
              "    .colab-df-convert {\n",
              "      background-color: #E8F0FE;\n",
              "      border: none;\n",
              "      border-radius: 50%;\n",
              "      cursor: pointer;\n",
              "      display: none;\n",
              "      fill: #1967D2;\n",
              "      height: 32px;\n",
              "      padding: 0 0 0 0;\n",
              "      width: 32px;\n",
              "    }\n",
              "\n",
              "    .colab-df-convert:hover {\n",
              "      background-color: #E2EBFA;\n",
              "      box-shadow: 0px 1px 2px rgba(60, 64, 67, 0.3), 0px 1px 3px 1px rgba(60, 64, 67, 0.15);\n",
              "      fill: #174EA6;\n",
              "    }\n",
              "\n",
              "    [theme=dark] .colab-df-convert {\n",
              "      background-color: #3B4455;\n",
              "      fill: #D2E3FC;\n",
              "    }\n",
              "\n",
              "    [theme=dark] .colab-df-convert:hover {\n",
              "      background-color: #434B5C;\n",
              "      box-shadow: 0px 1px 3px 1px rgba(0, 0, 0, 0.15);\n",
              "      filter: drop-shadow(0px 1px 2px rgba(0, 0, 0, 0.3));\n",
              "      fill: #FFFFFF;\n",
              "    }\n",
              "  </style>\n",
              "\n",
              "      <script>\n",
              "        const buttonEl =\n",
              "          document.querySelector('#df-2b703959-5a2b-4d76-98b7-83a49ea067c4 button.colab-df-convert');\n",
              "        buttonEl.style.display =\n",
              "          google.colab.kernel.accessAllowed ? 'block' : 'none';\n",
              "\n",
              "        async function convertToInteractive(key) {\n",
              "          const element = document.querySelector('#df-2b703959-5a2b-4d76-98b7-83a49ea067c4');\n",
              "          const dataTable =\n",
              "            await google.colab.kernel.invokeFunction('convertToInteractive',\n",
              "                                                     [key], {});\n",
              "          if (!dataTable) return;\n",
              "\n",
              "          const docLinkHtml = 'Like what you see? Visit the ' +\n",
              "            '<a target=\"_blank\" href=https://colab.research.google.com/notebooks/data_table.ipynb>data table notebook</a>'\n",
              "            + ' to learn more about interactive tables.';\n",
              "          element.innerHTML = '';\n",
              "          dataTable['output_type'] = 'display_data';\n",
              "          await google.colab.output.renderOutput(dataTable, element);\n",
              "          const docLink = document.createElement('div');\n",
              "          docLink.innerHTML = docLinkHtml;\n",
              "          element.appendChild(docLink);\n",
              "        }\n",
              "      </script>\n",
              "    </div>\n",
              "  </div>\n",
              "  "
            ]
          },
          "metadata": {},
          "execution_count": 37
        }
      ]
    },
    {
      "cell_type": "code",
      "source": [
        "string = \"\"\n",
        "from nltk.tokenize import word_tokenize\n",
        "for review in range(len(df)):\n",
        "  string = string+ \" \"+df['New_reviews'].iloc[review]\n",
        "\n"
      ],
      "metadata": {
        "id": "LpcJvLArA3XP"
      },
      "execution_count": null,
      "outputs": []
    },
    {
      "cell_type": "code",
      "source": [
        "from nltk.tokenize import word_tokenize\n",
        "nltk.download('punkt')"
      ],
      "metadata": {
        "colab": {
          "base_uri": "https://localhost:8080/"
        },
        "id": "MDceQ_iHCW1A",
        "outputId": "ba0eb79f-bf8a-4c54-a838-32736cb93fd3"
      },
      "execution_count": null,
      "outputs": [
        {
          "output_type": "stream",
          "name": "stderr",
          "text": [
            "[nltk_data] Downloading package punkt to /root/nltk_data...\n",
            "[nltk_data]   Package punkt is already up-to-date!\n"
          ]
        },
        {
          "output_type": "execute_result",
          "data": {
            "text/plain": [
              "True"
            ]
          },
          "metadata": {},
          "execution_count": 39
        }
      ]
    },
    {
      "cell_type": "code",
      "source": [
        "string_token = word_tokenize(string)"
      ],
      "metadata": {
        "id": "9j_h9yynQfXy"
      },
      "execution_count": null,
      "outputs": []
    },
    {
      "cell_type": "code",
      "source": [
        "!pip install NRCLex\n",
        "from nrclex import NRCLex\n"
      ],
      "metadata": {
        "colab": {
          "base_uri": "https://localhost:8080/"
        },
        "id": "vkYB4K6TC1At",
        "outputId": "eca440e1-8140-4dcc-b8c0-d16a2d2a6809"
      },
      "execution_count": null,
      "outputs": [
        {
          "output_type": "stream",
          "name": "stdout",
          "text": [
            "Looking in indexes: https://pypi.org/simple, https://us-python.pkg.dev/colab-wheels/public/simple/\n",
            "Requirement already satisfied: NRCLex in /usr/local/lib/python3.9/dist-packages (3.0.0)\n",
            "Requirement already satisfied: textblob in /usr/local/lib/python3.9/dist-packages (from NRCLex) (0.17.1)\n",
            "Requirement already satisfied: nltk>=3.1 in /usr/local/lib/python3.9/dist-packages (from textblob->NRCLex) (3.8.1)\n",
            "Requirement already satisfied: joblib in /usr/local/lib/python3.9/dist-packages (from nltk>=3.1->textblob->NRCLex) (1.1.1)\n",
            "Requirement already satisfied: regex>=2021.8.3 in /usr/local/lib/python3.9/dist-packages (from nltk>=3.1->textblob->NRCLex) (2022.10.31)\n",
            "Requirement already satisfied: tqdm in /usr/local/lib/python3.9/dist-packages (from nltk>=3.1->textblob->NRCLex) (4.65.0)\n",
            "Requirement already satisfied: click in /usr/local/lib/python3.9/dist-packages (from nltk>=3.1->textblob->NRCLex) (8.1.3)\n"
          ]
        }
      ]
    },
    {
      "cell_type": "code",
      "source": [
        "emotion = []\n",
        "for word in range(len(string_token)):\n",
        "  emotion.append(NRCLex(string_token[word]))\n"
      ],
      "metadata": {
        "id": "1jOrRZAKDl8v"
      },
      "execution_count": null,
      "outputs": []
    },
    {
      "cell_type": "code",
      "source": [
        "emotion_each_token = []\n",
        "for obj in range(len(emotion)):\n",
        "  emotion_each_token.append(emotion[obj].affect_list)\n",
        "\n",
        "# Remove empty Lists from List\n",
        "res = [ele for ele in emotion_each_token if ele != []]\n",
        "\n",
        "#Splitting lists to remove them\n",
        "res = [item[0].split(\",\") for item in res]\n",
        "\n",
        "flat_list = []\n",
        "for sublist in res:\n",
        "    for item in sublist:\n",
        "        flat_list.append(item)"
      ],
      "metadata": {
        "id": "0BxFHzETSfud"
      },
      "execution_count": null,
      "outputs": []
    },
    {
      "cell_type": "code",
      "source": [
        "from collections import Counter\n",
        "count = Counter(flat_list)\n",
        "count"
      ],
      "metadata": {
        "id": "V0wQsxKGVJ9r"
      },
      "execution_count": null,
      "outputs": []
    }
  ]
}